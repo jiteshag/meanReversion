{
 "cells": [
  {
   "cell_type": "code",
   "execution_count": 4,
   "metadata": {
    "collapsed": true
   },
   "outputs": [],
   "source": [
    "import numpy as np\n",
    "import pandas as pd\n",
    "\n",
    "# interpretation of return value\n",
    "# hurst < 0.5 - input_ts is mean reverting\n",
    "# hurst = 0.5 - input_ts is effectively random/geometric brownian motion\n",
    "# hurst > 0.5 - input_ts is trending\n",
    "            \n",
    "def hurst(input_ts, lags_to_test = 150) :\n",
    "            tau = []\n",
    "            lagvec = []  \n",
    "            #  Step through the different lags  \n",
    "            for lag in range(2, lags_to_test):  \n",
    "                #  produce price difference with lag  \n",
    "                pp = np.subtract(input_ts[lag:], input_ts[:-lag])  \n",
    "                #  Write the different lags into a vector  \n",
    "                lagvec.append(lag)  \n",
    "                #  Calculate the variance of the differnce vector  \n",
    "                tau.append(np.sqrt(np.std(pp)))  \n",
    "            #  linear fit to double-log graph (gives power)  \n",
    "            m = np.polyfit(np.log10(lagvec), np.log10(tau), 1)  \n",
    "            # calculate hurst  \n",
    "            hurst = m[0]*2\n",
    "            return hurst \n",
    "\n",
    "\n",
    "stocklist = pd.read_table('stocklist.txt', names = ('A'))\n",
    "f = open(\"hurst_scores.csv\", \"w+\")\n",
    "\n",
    "for stockname in stocklist['A']:\n",
    "    df_all = pd.read_csv(\"stock_data/\"+stockname+\".csv\", names=('Dates', 'stockVWAP', 'futureVWAP', 'bidPrice', 'askPrice', 'total_value', 'total_size'))\n",
    "    df_train = df_all[:60000]\n",
    "    df_train_resampled_10min = df_train[df_train.index%10 == 0]\n",
    "    df_train_resampled_10min.reset_index(drop = True)   \n",
    "    df = df_train_resampled_10min[:5999]\n",
    "\n",
    "    hurst_score = hurst(df['stockVWAP'])\n",
    "#     print(stockname+\":\"+str(hurst(df['stockVWAP'])))\n",
    "    f.write(stockname+\",\"+str(hurst_score))\n",
    "    f.write('\\n')  \n",
    "\n",
    "f.close()"
   ]
  }
 ],
 "metadata": {
  "kernelspec": {
   "display_name": "Python 3",
   "language": "python",
   "name": "python3"
  },
  "language_info": {
   "codemirror_mode": {
    "name": "ipython",
    "version": 3
   },
   "file_extension": ".py",
   "mimetype": "text/x-python",
   "name": "python",
   "nbconvert_exporter": "python",
   "pygments_lexer": "ipython3",
   "version": "3.6.3"
  }
 },
 "nbformat": 4,
 "nbformat_minor": 2
}
